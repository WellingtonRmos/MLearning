{
  "nbformat": 4,
  "nbformat_minor": 0,
  "metadata": {
    "colab": {
      "provenance": [],
      "toc_visible": true,
      "authorship_tag": "ABX9TyNm3wMoBUN/fsxbm3FWvc5u",
      "include_colab_link": true
    },
    "kernelspec": {
      "name": "python3",
      "display_name": "Python 3"
    },
    "language_info": {
      "name": "python"
    }
  },
  "cells": [
    {
      "cell_type": "markdown",
      "metadata": {
        "id": "view-in-github",
        "colab_type": "text"
      },
      "source": [
        "<a href=\"https://colab.research.google.com/github/WellingtonRmos/MLearning/blob/main/HMMLearn%5BPT_BR%5D.ipynb\" target=\"_parent\"><img src=\"https://colab.research.google.com/assets/colab-badge.svg\" alt=\"Open In Colab\"/></a>"
      ]
    },
    {
      "cell_type": "markdown",
      "source": [
        "#Tutorial de HMMLearn\n",
        "\n",
        "Data de atualização: 04 de julho de 2023\n",
        "\n",
        "Video sobre o modelo [EN]: (https://www.youtube.com/watch?v=RWkHJnFj5rY) autor NormalizedNerd\n",
        "\n",
        "# 1.0 Objetivo do tutorial\n",
        "\n",
        "Tudo bem, o objetivo do tutorial é tirar alguém do zero é ser capaz de criar seu primeiro modelo HMM com python. Não iremos explorar todas as possibilidades aqui, mas já terá uma visão de como procurar é organizar seu codígo futuro\n",
        "\n",
        "Vamos aprender:\n",
        "\n",
        "* Importar as principais bibliotecas\n",
        "* Usar o yfinance para obter os dados\n",
        "* Dividir entre treino e teste para series temporais\n",
        "* Como usar os states para observar e dividir o dataset\n",
        "\n",
        "Não vamos criar um modelo lucrativo o intuito não é esse, porém ter fundamentos e bases solidas sobre o modelo para trabalhos futuros"
      ],
      "metadata": {
        "id": "qYskdig1qqyP"
      }
    },
    {
      "cell_type": "markdown",
      "source": [
        "# 1.1 Instalando o yfinance e hmmlearn\n",
        "Basta instalar usando pip como qualquer outro pacote"
      ],
      "metadata": {
        "id": "RliVg9Mys_0d"
      }
    },
    {
      "cell_type": "code",
      "execution_count": null,
      "metadata": {
        "id": "clrqcESJj2WA"
      },
      "outputs": [],
      "source": [
        "!pip install yfinance\n",
        "!pip install hmmlearn"
      ]
    },
    {
      "cell_type": "markdown",
      "source": [
        "# 2. Importar as bibliotecas é preencher o DataFrame\n",
        "Aqui é uma rotina padrão. O unico passo diferente é a forma como os retornos são calculados. O comando '.pct_change' poderia ser usado sozinho também geraria retornos, MAS é recomendado utilizar Log returns."
      ],
      "metadata": {
        "id": "BYfAI3A1tRTF"
      }
    },
    {
      "cell_type": "code",
      "source": [
        "import pandas as pd\n",
        "import numpy as np\n",
        "from yfinance import download\n",
        "from hmmlearn.hmm import GaussianHMM\n",
        "pd.options.mode.chained_assignment = None  # default='warn'\n",
        "\n",
        "# Selecione um periodo, intervalo e o nome da acao\n",
        "time = '1wk'\n",
        "start_date = '2010-01-01'\n",
        "stock = 'nvda'\n",
        "\n",
        "# Criar e preencher o DataFrame\n",
        "df = download(stock, interval=time, start=start_date)[['Open', 'High', 'Low', 'Close']]\n",
        "\n",
        "# Criar novas colunas para o log return e o retorno total acumulado\n",
        "df['Ret'] = np.log(df.Close.pct_change() + 1)\n",
        "df['Hold'] = np.exp(df.Ret.cumsum())\n",
        "\n",
        "df.dropna(inplace=True)"
      ],
      "metadata": {
        "id": "a82AdzNkj6nQ",
        "colab": {
          "base_uri": "https://localhost:8080/"
        },
        "outputId": "b1dd24a8-f806-4bc4-cf00-07a6f8db18f7"
      },
      "execution_count": null,
      "outputs": [
        {
          "output_type": "stream",
          "name": "stdout",
          "text": [
            "\r[*********************100%***********************]  1 of 1 completed\n"
          ]
        }
      ]
    },
    {
      "cell_type": "code",
      "source": [
        "# Visualizar o DataFrame\n",
        "df.head(11)"
      ],
      "metadata": {
        "id": "MRzn_mRDypt7"
      },
      "execution_count": null,
      "outputs": []
    },
    {
      "cell_type": "markdown",
      "source": [
        "# 3. Dividir o DataFrame\n",
        "1. Primeiro Selecionamos o tamanho do corte\n",
        "2. Criamos um novo DataFrame para armazenar apenas os dados que queremos\n",
        "3. Limpamos o DataFrame de possíveis Na\n",
        "4. Dividimos entre treino e teste e cortamos os dados onde selecionamos"
      ],
      "metadata": {
        "id": "g7XPwHHauLP2"
      }
    },
    {
      "cell_type": "code",
      "source": [
        "# Criar um corte nos dados\n",
        "tamanho = .25\n",
        "t = round( len(df) * tamanho)\n",
        "\n",
        "# Criar o DataFrame e as colunas para o modelo\n",
        "dff = pd.DataFrame()\n",
        "dff['Ret'] = df.Ret\n",
        "dff['Labels'] = pd.qcut(df.Ret, q=4, labels=[0, 1, 2, 3]) # Divide os dados em quatro categorias\n",
        "dff['BGER_MEAN'] = np.where(df.Ret > df.Ret.mean(), 1, 0) # Seleciona onde os dados sao maiores que a media\n",
        "\n",
        "# Remover Na\n",
        "dff.dropna(inplace=True)\n",
        "\n",
        "# Separar os dados entre treino e teste\n",
        "X_train = dff[[\"Ret\", \"Labels\", \"BGER_MEAN\"]].iloc[:t]\n",
        "X_test = dff[[\"Ret\", \"Labels\", \"BGER_MEAN\"]].iloc[t:]"
      ],
      "metadata": {
        "id": "_80fLR2GCvD1"
      },
      "execution_count": null,
      "outputs": []
    },
    {
      "cell_type": "code",
      "source": [
        "# Visualizar o novo DataFrame de teste\n",
        "X_train"
      ],
      "metadata": {
        "id": "yEXrJ-deu9UN"
      },
      "execution_count": null,
      "outputs": []
    },
    {
      "cell_type": "markdown",
      "source": [
        "# 4. Criar o modelo\n",
        "Aqui o processo é simples primeiro criamos o modelo é depois fazemos as predições nos dados de test é armazenamos em um novo DataFrame deletar a os dados de teste é completamente opcional"
      ],
      "metadata": {
        "id": "NDG55fb4wFiN"
      }
    },
    {
      "cell_type": "code",
      "source": [
        "# Processar os dados no modelo HMM\n",
        "model = GaussianHMM(n_components=4, covariance_type=\"diag\", n_iter=1000, random_state=7).fit(X_train)\n",
        "hidden_states = model.predict(X_test)\n",
        "\n",
        "# Criar um novo DataFrame mais legivel\n",
        "df1 = X_test.copy()\n",
        "del X_test"
      ],
      "metadata": {
        "id": "twI92lxuuT7N"
      },
      "execution_count": null,
      "outputs": []
    },
    {
      "cell_type": "markdown",
      "source": [
        "# 5. Analisar os estados e resultados\n",
        "Aqui é  o que importa de fato, como os dados de acordo com o HMM estão separados e ordenados\n",
        "1. Criamos uma nova coluna para os estados\n",
        "2. Selecionamos onde os estados forem == 1, 2, por exemplo, é adicionamos 1 para calculos futuros.\n",
        "    * O passo 2 é o mais importante de ser intendido, pois é onde os dados são separados é devem vir a ser escolhido de acordo com a necessidade do modelo\n",
        "3. Calcula-se o retorno do dia futuro * o sinal escolhido do dia presente. Resultando no retorno da estratégia nesse caso.\n",
        "4. Calculo do retorno acumulado da ação\n",
        "5. Retorno a juros simples da estratégia"
      ],
      "metadata": {
        "id": "gPpvRH5qIP_3"
      }
    },
    {
      "cell_type": "code",
      "source": [
        "# Preencher as colunas do novo DataFrame, Selecionar os estados de desejo, calcular o retorno, B&H, Soma dos juros simples da estrategia, Plots\n",
        "df1['State'] = hidden_states\n",
        "df1['Sinal'] = np.where((df1.State == 4) | (df1.State == 1), 1, 0)\n",
        "df1['STRATEGY_RETURN'] = df1.Sinal * (df1.Ret.shift(-1))\n",
        "df1['Hold'] = np.exp((df1.Ret).cumsum())\n",
        "df1['STRATEGY_SIMPLE_RETURNS'] =  ((df1.STRATEGY_RETURN ).cumsum())\n",
        "df1.STRATEGY_SIMPLE_RETURNS.plot()"
      ],
      "metadata": {
        "id": "nLhiKjQvCvX1"
      },
      "execution_count": null,
      "outputs": []
    },
    {
      "cell_type": "markdown",
      "source": [
        "# 5.1 Mais explicações\n",
        "\n",
        "Note que o que faz o resultado ser diferente está nessa linha de codigo é você deve entender isso claramente\n"
      ],
      "metadata": {
        "id": "xDM5bP31J0ev"
      }
    },
    {
      "cell_type": "code",
      "source": [
        "# Mudaremos os estados para 0 e 1 por exemplo\n",
        "df1['Sinal'] = np.where((df1.State == 0) | (df1.State == 1), 1, 0)\n",
        "\n",
        "# Copia do resto do codigo\n",
        "df1['STRATEGY_RETURN'] = df1.Sinal * (df1.Ret.shift(-1))\n",
        "df1['Hold'] = np.exp((df1.Ret).cumsum())\n",
        "df1['STRATEGY_SIMPLE_RETURNS'] =  ((df1.STRATEGY_RETURN ).cumsum())\n",
        "df1.STRATEGY_SIMPLE_RETURNS.plot()"
      ],
      "metadata": {
        "id": "JGmp2CGsz4PC"
      },
      "execution_count": null,
      "outputs": []
    },
    {
      "cell_type": "markdown",
      "source": [
        "# 5.2 Dividir o dataset\n",
        "\n",
        "Você também pode dividir o dataset pelas suas propriedades estatisticas"
      ],
      "metadata": {
        "id": "ht9LTW1sLlx2"
      }
    },
    {
      "cell_type": "code",
      "source": [
        "# Exemplo de como selecionar os dados por 'state'\n",
        "estado_1 = df1.loc[df1.State == 2]\n",
        "estado_1.drop(columns=['STRATEGY_SIMPLE_RETURNS', 'STRATEGY_RETURN'], inplace=True)\n",
        "estado_1"
      ],
      "metadata": {
        "colab": {
          "base_uri": "https://localhost:8080/",
          "height": 455
        },
        "id": "jU-OrAQ9LyRN",
        "outputId": "a07dce6a-fc9a-4bc8-8fa6-f1b0152eb212"
      },
      "execution_count": null,
      "outputs": [
        {
          "output_type": "execute_result",
          "data": {
            "text/plain": [
              "                 Ret Labels  BGER_MEAN  State  Sinal        Hold\n",
              "Date                                                            \n",
              "2013-05-31 -0.026317      1          0      2      0    0.974026\n",
              "2013-06-21 -0.030231      0          0      2      0    0.957621\n",
              "2013-11-01 -0.043046      0          0      2      0    0.994532\n",
              "2013-11-15 -0.056433      0          0      2      0    1.047847\n",
              "2013-12-06 -0.038304      0          0      2      0    1.032809\n",
              "...              ...    ...        ...    ...    ...         ...\n",
              "2022-12-16 -0.099987      0          0      2      0   41.938482\n",
              "2022-12-23 -0.049172      0          0      2      0   39.926178\n",
              "2023-06-02 -0.032195      0          0      2      0  105.290500\n",
              "2023-06-23 -0.052560      0          0      2      0  111.611756\n",
              "2023-07-28 -0.030639      0          0      2      0  121.708815\n",
              "\n",
              "[125 rows x 6 columns]"
            ],
            "text/html": [
              "\n",
              "\n",
              "  <div id=\"df-b4bc2bc9-ccc8-464a-a57a-72f98734df0d\">\n",
              "    <div class=\"colab-df-container\">\n",
              "      <div>\n",
              "<style scoped>\n",
              "    .dataframe tbody tr th:only-of-type {\n",
              "        vertical-align: middle;\n",
              "    }\n",
              "\n",
              "    .dataframe tbody tr th {\n",
              "        vertical-align: top;\n",
              "    }\n",
              "\n",
              "    .dataframe thead th {\n",
              "        text-align: right;\n",
              "    }\n",
              "</style>\n",
              "<table border=\"1\" class=\"dataframe\">\n",
              "  <thead>\n",
              "    <tr style=\"text-align: right;\">\n",
              "      <th></th>\n",
              "      <th>Ret</th>\n",
              "      <th>Labels</th>\n",
              "      <th>BGER_MEAN</th>\n",
              "      <th>State</th>\n",
              "      <th>Sinal</th>\n",
              "      <th>Hold</th>\n",
              "    </tr>\n",
              "    <tr>\n",
              "      <th>Date</th>\n",
              "      <th></th>\n",
              "      <th></th>\n",
              "      <th></th>\n",
              "      <th></th>\n",
              "      <th></th>\n",
              "      <th></th>\n",
              "    </tr>\n",
              "  </thead>\n",
              "  <tbody>\n",
              "    <tr>\n",
              "      <th>2013-05-31</th>\n",
              "      <td>-0.026317</td>\n",
              "      <td>1</td>\n",
              "      <td>0</td>\n",
              "      <td>2</td>\n",
              "      <td>0</td>\n",
              "      <td>0.974026</td>\n",
              "    </tr>\n",
              "    <tr>\n",
              "      <th>2013-06-21</th>\n",
              "      <td>-0.030231</td>\n",
              "      <td>0</td>\n",
              "      <td>0</td>\n",
              "      <td>2</td>\n",
              "      <td>0</td>\n",
              "      <td>0.957621</td>\n",
              "    </tr>\n",
              "    <tr>\n",
              "      <th>2013-11-01</th>\n",
              "      <td>-0.043046</td>\n",
              "      <td>0</td>\n",
              "      <td>0</td>\n",
              "      <td>2</td>\n",
              "      <td>0</td>\n",
              "      <td>0.994532</td>\n",
              "    </tr>\n",
              "    <tr>\n",
              "      <th>2013-11-15</th>\n",
              "      <td>-0.056433</td>\n",
              "      <td>0</td>\n",
              "      <td>0</td>\n",
              "      <td>2</td>\n",
              "      <td>0</td>\n",
              "      <td>1.047847</td>\n",
              "    </tr>\n",
              "    <tr>\n",
              "      <th>2013-12-06</th>\n",
              "      <td>-0.038304</td>\n",
              "      <td>0</td>\n",
              "      <td>0</td>\n",
              "      <td>2</td>\n",
              "      <td>0</td>\n",
              "      <td>1.032809</td>\n",
              "    </tr>\n",
              "    <tr>\n",
              "      <th>...</th>\n",
              "      <td>...</td>\n",
              "      <td>...</td>\n",
              "      <td>...</td>\n",
              "      <td>...</td>\n",
              "      <td>...</td>\n",
              "      <td>...</td>\n",
              "    </tr>\n",
              "    <tr>\n",
              "      <th>2022-12-16</th>\n",
              "      <td>-0.099987</td>\n",
              "      <td>0</td>\n",
              "      <td>0</td>\n",
              "      <td>2</td>\n",
              "      <td>0</td>\n",
              "      <td>41.938482</td>\n",
              "    </tr>\n",
              "    <tr>\n",
              "      <th>2022-12-23</th>\n",
              "      <td>-0.049172</td>\n",
              "      <td>0</td>\n",
              "      <td>0</td>\n",
              "      <td>2</td>\n",
              "      <td>0</td>\n",
              "      <td>39.926178</td>\n",
              "    </tr>\n",
              "    <tr>\n",
              "      <th>2023-06-02</th>\n",
              "      <td>-0.032195</td>\n",
              "      <td>0</td>\n",
              "      <td>0</td>\n",
              "      <td>2</td>\n",
              "      <td>0</td>\n",
              "      <td>105.290500</td>\n",
              "    </tr>\n",
              "    <tr>\n",
              "      <th>2023-06-23</th>\n",
              "      <td>-0.052560</td>\n",
              "      <td>0</td>\n",
              "      <td>0</td>\n",
              "      <td>2</td>\n",
              "      <td>0</td>\n",
              "      <td>111.611756</td>\n",
              "    </tr>\n",
              "    <tr>\n",
              "      <th>2023-07-28</th>\n",
              "      <td>-0.030639</td>\n",
              "      <td>0</td>\n",
              "      <td>0</td>\n",
              "      <td>2</td>\n",
              "      <td>0</td>\n",
              "      <td>121.708815</td>\n",
              "    </tr>\n",
              "  </tbody>\n",
              "</table>\n",
              "<p>125 rows × 6 columns</p>\n",
              "</div>\n",
              "      <button class=\"colab-df-convert\" onclick=\"convertToInteractive('df-b4bc2bc9-ccc8-464a-a57a-72f98734df0d')\"\n",
              "              title=\"Convert this dataframe to an interactive table.\"\n",
              "              style=\"display:none;\">\n",
              "\n",
              "  <svg xmlns=\"http://www.w3.org/2000/svg\" height=\"24px\"viewBox=\"0 0 24 24\"\n",
              "       width=\"24px\">\n",
              "    <path d=\"M0 0h24v24H0V0z\" fill=\"none\"/>\n",
              "    <path d=\"M18.56 5.44l.94 2.06.94-2.06 2.06-.94-2.06-.94-.94-2.06-.94 2.06-2.06.94zm-11 1L8.5 8.5l.94-2.06 2.06-.94-2.06-.94L8.5 2.5l-.94 2.06-2.06.94zm10 10l.94 2.06.94-2.06 2.06-.94-2.06-.94-.94-2.06-.94 2.06-2.06.94z\"/><path d=\"M17.41 7.96l-1.37-1.37c-.4-.4-.92-.59-1.43-.59-.52 0-1.04.2-1.43.59L10.3 9.45l-7.72 7.72c-.78.78-.78 2.05 0 2.83L4 21.41c.39.39.9.59 1.41.59.51 0 1.02-.2 1.41-.59l7.78-7.78 2.81-2.81c.8-.78.8-2.07 0-2.86zM5.41 20L4 18.59l7.72-7.72 1.47 1.35L5.41 20z\"/>\n",
              "  </svg>\n",
              "      </button>\n",
              "\n",
              "\n",
              "\n",
              "    <div id=\"df-b023d79f-abf1-42eb-b281-5f634eb60d3e\">\n",
              "      <button class=\"colab-df-quickchart\" onclick=\"quickchart('df-b023d79f-abf1-42eb-b281-5f634eb60d3e')\"\n",
              "              title=\"Suggest charts.\"\n",
              "              style=\"display:none;\">\n",
              "\n",
              "<svg xmlns=\"http://www.w3.org/2000/svg\" height=\"24px\"viewBox=\"0 0 24 24\"\n",
              "     width=\"24px\">\n",
              "    <g>\n",
              "        <path d=\"M19 3H5c-1.1 0-2 .9-2 2v14c0 1.1.9 2 2 2h14c1.1 0 2-.9 2-2V5c0-1.1-.9-2-2-2zM9 17H7v-7h2v7zm4 0h-2V7h2v10zm4 0h-2v-4h2v4z\"/>\n",
              "    </g>\n",
              "</svg>\n",
              "      </button>\n",
              "    </div>\n",
              "\n",
              "<style>\n",
              "  .colab-df-quickchart {\n",
              "    background-color: #E8F0FE;\n",
              "    border: none;\n",
              "    border-radius: 50%;\n",
              "    cursor: pointer;\n",
              "    display: none;\n",
              "    fill: #1967D2;\n",
              "    height: 32px;\n",
              "    padding: 0 0 0 0;\n",
              "    width: 32px;\n",
              "  }\n",
              "\n",
              "  .colab-df-quickchart:hover {\n",
              "    background-color: #E2EBFA;\n",
              "    box-shadow: 0px 1px 2px rgba(60, 64, 67, 0.3), 0px 1px 3px 1px rgba(60, 64, 67, 0.15);\n",
              "    fill: #174EA6;\n",
              "  }\n",
              "\n",
              "  [theme=dark] .colab-df-quickchart {\n",
              "    background-color: #3B4455;\n",
              "    fill: #D2E3FC;\n",
              "  }\n",
              "\n",
              "  [theme=dark] .colab-df-quickchart:hover {\n",
              "    background-color: #434B5C;\n",
              "    box-shadow: 0px 1px 3px 1px rgba(0, 0, 0, 0.15);\n",
              "    filter: drop-shadow(0px 1px 2px rgba(0, 0, 0, 0.3));\n",
              "    fill: #FFFFFF;\n",
              "  }\n",
              "</style>\n",
              "\n",
              "    <script>\n",
              "      async function quickchart(key) {\n",
              "        const containerElement = document.querySelector('#' + key);\n",
              "        const charts = await google.colab.kernel.invokeFunction(\n",
              "            'suggestCharts', [key], {});\n",
              "      }\n",
              "    </script>\n",
              "\n",
              "      <script>\n",
              "\n",
              "function displayQuickchartButton(domScope) {\n",
              "  let quickchartButtonEl =\n",
              "    domScope.querySelector('#df-b023d79f-abf1-42eb-b281-5f634eb60d3e button.colab-df-quickchart');\n",
              "  quickchartButtonEl.style.display =\n",
              "    google.colab.kernel.accessAllowed ? 'block' : 'none';\n",
              "}\n",
              "\n",
              "        displayQuickchartButton(document);\n",
              "      </script>\n",
              "      <style>\n",
              "    .colab-df-container {\n",
              "      display:flex;\n",
              "      flex-wrap:wrap;\n",
              "      gap: 12px;\n",
              "    }\n",
              "\n",
              "    .colab-df-convert {\n",
              "      background-color: #E8F0FE;\n",
              "      border: none;\n",
              "      border-radius: 50%;\n",
              "      cursor: pointer;\n",
              "      display: none;\n",
              "      fill: #1967D2;\n",
              "      height: 32px;\n",
              "      padding: 0 0 0 0;\n",
              "      width: 32px;\n",
              "    }\n",
              "\n",
              "    .colab-df-convert:hover {\n",
              "      background-color: #E2EBFA;\n",
              "      box-shadow: 0px 1px 2px rgba(60, 64, 67, 0.3), 0px 1px 3px 1px rgba(60, 64, 67, 0.15);\n",
              "      fill: #174EA6;\n",
              "    }\n",
              "\n",
              "    [theme=dark] .colab-df-convert {\n",
              "      background-color: #3B4455;\n",
              "      fill: #D2E3FC;\n",
              "    }\n",
              "\n",
              "    [theme=dark] .colab-df-convert:hover {\n",
              "      background-color: #434B5C;\n",
              "      box-shadow: 0px 1px 3px 1px rgba(0, 0, 0, 0.15);\n",
              "      filter: drop-shadow(0px 1px 2px rgba(0, 0, 0, 0.3));\n",
              "      fill: #FFFFFF;\n",
              "    }\n",
              "  </style>\n",
              "\n",
              "      <script>\n",
              "        const buttonEl =\n",
              "          document.querySelector('#df-b4bc2bc9-ccc8-464a-a57a-72f98734df0d button.colab-df-convert');\n",
              "        buttonEl.style.display =\n",
              "          google.colab.kernel.accessAllowed ? 'block' : 'none';\n",
              "\n",
              "        async function convertToInteractive(key) {\n",
              "          const element = document.querySelector('#df-b4bc2bc9-ccc8-464a-a57a-72f98734df0d');\n",
              "          const dataTable =\n",
              "            await google.colab.kernel.invokeFunction('convertToInteractive',\n",
              "                                                     [key], {});\n",
              "          if (!dataTable) return;\n",
              "\n",
              "          const docLinkHtml = 'Like what you see? Visit the ' +\n",
              "            '<a target=\"_blank\" href=https://colab.research.google.com/notebooks/data_table.ipynb>data table notebook</a>'\n",
              "            + ' to learn more about interactive tables.';\n",
              "          element.innerHTML = '';\n",
              "          dataTable['output_type'] = 'display_data';\n",
              "          await google.colab.output.renderOutput(dataTable, element);\n",
              "          const docLink = document.createElement('div');\n",
              "          docLink.innerHTML = docLinkHtml;\n",
              "          element.appendChild(docLink);\n",
              "        }\n",
              "      </script>\n",
              "    </div>\n",
              "  </div>\n"
            ]
          },
          "metadata": {},
          "execution_count": 24
        }
      ]
    },
    {
      "cell_type": "markdown",
      "source": [
        "# Conclusão\n",
        "Espero que tenha aprendido um pouco sobre como usar o HMM e tenha agora algum conhecimento básico da ferramenta nossos resultados nesse teste não foram relevantes, porém a ideia não era criar um modelo lucrativo, mas sim passar o conhecimento adiante. Caso tenha sido util o objetivo foi atingido"
      ],
      "metadata": {
        "id": "obgy0gJqMmNc"
      }
    },
    {
      "cell_type": "markdown",
      "source": [
        "# 6. Codigo como exemplo\n",
        "exemplo de calculos simples para ações"
      ],
      "metadata": {
        "id": "XnIDCn2CK989"
      }
    },
    {
      "cell_type": "code",
      "source": [
        "# Calculo indice de acerto\n",
        "up = len(df.loc[df.Ret > 0]) / len(df)\n",
        "down = 1 - up\n",
        "1 - down\n",
        "\n",
        "# Media de retornos positivos e negativos\n",
        "media_alta = df.Ret.loc[df.Ret > 0].mean()\n",
        "media_baixa = df.Ret.loc[df.Ret < 0].mean()\n",
        "\n",
        "# Medias dos retornos de alta e baixa\n",
        "print(f\"Probabilidade de alta  {up:.2f}%\")\n",
        "print(f\"Probabilidade de baixa {down:.2f}%\")\n",
        "print(f\"O retorno medio foi de nos dias de alta  {media_alta:.4f}%\")\n",
        "print(f\"O retorno medio nos dias de baixa       {media_baixa:.4f}%\")\n",
        "\n",
        "# Kelly fraction //  Fomula para Calcular o criterio de kelly apenas por curiosidade\n",
        "f = (abs(media_alta / media_baixa) * up - down) / abs(media_alta / media_baixa)\n",
        "print(f\"A fracao ideal de aporte é de {f:.2f}%\")"
      ],
      "metadata": {
        "colab": {
          "base_uri": "https://localhost:8080/"
        },
        "id": "7ytdInQOkSX5",
        "outputId": "3e6f06b5-8617-4e36-f0d3-dfbed678a42a"
      },
      "execution_count": null,
      "outputs": [
        {
          "output_type": "stream",
          "name": "stdout",
          "text": [
            "Probabilidade de alta  0.56%\n",
            "Probabilidade de baixa 0.44%\n",
            "O retorno medio foi de nos dias de alta  0.0448%\n",
            "O retorno medio nos dias de baixa       -0.0435%\n",
            "A fracao ideal de aporte é de 0.14%\n"
          ]
        }
      ]
    }
  ]
}